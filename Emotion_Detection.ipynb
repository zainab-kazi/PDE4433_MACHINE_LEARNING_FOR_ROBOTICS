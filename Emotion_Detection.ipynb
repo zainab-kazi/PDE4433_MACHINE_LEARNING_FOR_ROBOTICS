{
 "cells": [
  {
   "cell_type": "code",
   "execution_count": 26,
   "id": "bd4f7797",
   "metadata": {},
   "outputs": [
    {
     "name": "stdout",
     "output_type": "stream",
     "text": [
      "Requirement already satisfied: pydot in c:\\users\\zainab\\anaconda3\\lib\\site-packages (3.0.4)"
     ]
    },
    {
     "name": "stderr",
     "output_type": "stream",
     "text": [
      "WARNING: Ignoring invalid distribution -pencv-python (c:\\users\\zainab\\anaconda3\\lib\\site-packages)\n",
      "WARNING: Ignoring invalid distribution -pencv-python (c:\\users\\zainab\\anaconda3\\lib\\site-packages)\n",
      "WARNING: Ignoring invalid distribution -pencv-python (c:\\users\\zainab\\anaconda3\\lib\\site-packages)\n",
      "WARNING: Ignoring invalid distribution -pencv-python (c:\\users\\zainab\\anaconda3\\lib\\site-packages)\n",
      "WARNING: Ignoring invalid distribution -pencv-python (c:\\users\\zainab\\anaconda3\\lib\\site-packages)\n",
      "WARNING: Ignoring invalid distribution -pencv-python (c:\\users\\zainab\\anaconda3\\lib\\site-packages)\n"
     ]
    },
    {
     "name": "stdout",
     "output_type": "stream",
     "text": [
      "\n",
      "Requirement already satisfied: pyparsing>=3.0.9 in c:\\users\\zainab\\anaconda3\\lib\\site-packages (from pydot) (3.0.9)\n"
     ]
    }
   ],
   "source": [
    "!pip install pydot"
   ]
  },
  {
   "cell_type": "code",
   "execution_count": 38,
   "id": "07f24832",
   "metadata": {
    "scrolled": true
   },
   "outputs": [
    {
     "name": "stdout",
     "output_type": "stream",
     "text": [
      "Requirement already satisfied: numpy in c:\\users\\zainab\\anaconda3\\lib\\site-packages (2.1.3)\n",
      "Requirement already satisfied: matplotlib in c:\\users\\zainab\\anaconda3\\lib\\site-packages (3.7.0)\n",
      "Requirement already satisfied: scipy in c:\\users\\zainab\\anaconda3\\lib\\site-packages (1.10.0)\n",
      "Requirement already satisfied: opencv-python in c:\\users\\zainab\\anaconda3\\lib\\site-packages (4.11.0.86)\n",
      "Requirement already satisfied: scikit-image in c:\\users\\zainab\\anaconda3\\lib\\site-packages (0.19.3)\n",
      "Requirement already satisfied: pyparsing>=2.3.1 in c:\\users\\zainab\\anaconda3\\lib\\site-packages (from matplotlib) (3.0.9)\n",
      "Requirement already satisfied: pillow>=6.2.0 in c:\\users\\zainab\\anaconda3\\lib\\site-packages (from matplotlib) (11.1.0)\n",
      "Requirement already satisfied: kiwisolver>=1.0.1 in c:\\users\\zainab\\anaconda3\\lib\\site-packages (from matplotlib) (1.4.4)\n",
      "Requirement already satisfied: fonttools>=4.22.0 in c:\\users\\zainab\\anaconda3\\lib\\site-packages (from matplotlib) (4.25.0)\n",
      "Requirement already satisfied: python-dateutil>=2.7 in c:\\users\\zainab\\anaconda3\\lib\\site-packages (from matplotlib) (2.8.2)\n",
      "Requirement already satisfied: cycler>=0.10 in c:\\users\\zainab\\anaconda3\\lib\\site-packages (from matplotlib) (0.11.0)\n",
      "Requirement already satisfied: packaging>=20.0 in c:\\users\\zainab\\anaconda3\\lib\\site-packages (from matplotlib) (24.2)\n",
      "Requirement already satisfied: contourpy>=1.0.1 in c:\\users\\zainab\\anaconda3\\lib\\site-packages (from matplotlib) (1.0.5)\n",
      "Collecting numpy\n",
      "  Downloading numpy-1.26.4-cp310-cp310-win_amd64.whl (15.8 MB)\n",
      "     ---------------------------------------- 15.8/15.8 MB 9.0 MB/s eta 0:00:00\n",
      "Requirement already satisfied: imageio>=2.4.1 in c:\\users\\zainab\\anaconda3\\lib\\site-packages (from scikit-image) (2.26.0)\n",
      "Requirement already satisfied: tifffile>=2019.7.26 in c:\\users\\zainab\\anaconda3\\lib\\site-packages (from scikit-image) (2021.7.2)\n",
      "Requirement already satisfied: PyWavelets>=1.1.1 in c:\\users\\zainab\\anaconda3\\lib\\site-packages (from scikit-image) (1.4.1)\n",
      "Requirement already satisfied: networkx>=2.2 in c:\\users\\zainab\\anaconda3\\lib\\site-packages (from scikit-image) (2.8.4)\n",
      "Requirement already satisfied: six>=1.5 in c:\\users\\zainab\\anaconda3\\lib\\site-packages (from python-dateutil>=2.7->matplotlib) (1.17.0)\n",
      "Installing collected packages: numpy\n",
      "  Attempting uninstall: numpy\n",
      "    Found existing installation: numpy 2.1.3\n",
      "    Uninstalling numpy-2.1.3:\n",
      "      Successfully uninstalled numpy-2.1.3\n",
      "Successfully installed numpy-1.26.4\n"
     ]
    },
    {
     "name": "stderr",
     "output_type": "stream",
     "text": [
      "WARNING: Ignoring invalid distribution -pencv-python (c:\\users\\zainab\\anaconda3\\lib\\site-packages)\n",
      "WARNING: Ignoring invalid distribution -pencv-python (c:\\users\\zainab\\anaconda3\\lib\\site-packages)\n",
      "WARNING: Ignoring invalid distribution -pencv-python (c:\\users\\zainab\\anaconda3\\lib\\site-packages)\n",
      "    WARNING: Ignoring invalid distribution -pencv-python (c:\\users\\zainab\\anaconda3\\lib\\site-packages)\n",
      "WARNING: Ignoring invalid distribution -pencv-python (c:\\users\\zainab\\anaconda3\\lib\\site-packages)\n",
      "ERROR: pip's dependency resolver does not currently take into account all the packages that are installed. This behaviour is the source of the following dependency conflicts.\n",
      "gensim 4.3.0 requires FuzzyTM>=0.4.0, which is not installed.\n",
      "tensorflow-intel 2.12.0 requires numpy<1.24,>=1.22, but you have numpy 1.26.4 which is incompatible.\n",
      "numba 0.56.4 requires numpy<1.24,>=1.18, but you have numpy 1.26.4 which is incompatible.\n",
      "WARNING: Ignoring invalid distribution -pencv-python (c:\\users\\zainab\\anaconda3\\lib\\site-packages)\n",
      "WARNING: Ignoring invalid distribution -pencv-python (c:\\users\\zainab\\anaconda3\\lib\\site-packages)\n",
      "WARNING: Ignoring invalid distribution -pencv-python (c:\\users\\zainab\\anaconda3\\lib\\site-packages)\n"
     ]
    }
   ],
   "source": [
    "!pip install numpy matplotlib scipy opencv-python scikit-image"
   ]
  },
  {
   "cell_type": "code",
   "execution_count": 40,
   "id": "4892ac43",
   "metadata": {
    "scrolled": true
   },
   "outputs": [
    {
     "name": "stdout",
     "output_type": "stream",
     "text": [
      "Requirement already satisfied: deepface in c:\\users\\zainab\\anaconda3\\lib\\site-packages (0.0.79)\n",
      "Requirement already satisfied: gunicorn>=20.1.0 in c:\\users\\zainab\\anaconda3\\lib\\site-packages (from deepface) (20.1.0)\n",
      "Requirement already satisfied: tqdm>=4.30.0 in c:\\users\\zainab\\anaconda3\\lib\\site-packages (from deepface) (4.67.1)\n",
      "Requirement already satisfied: numpy>=1.14.0 in c:\\users\\zainab\\anaconda3\\lib\\site-packages (from deepface) (1.26.4)\n",
      "Requirement already satisfied: tensorflow>=1.9.0 in c:\\users\\zainab\\anaconda3\\lib\\site-packages (from deepface) (2.12.0)\n",
      "Requirement already satisfied: retina-face>=0.0.1 in c:\\users\\zainab\\anaconda3\\lib\\site-packages (from deepface) (0.0.13)\n",
      "Requirement already satisfied: fire>=0.4.0 in c:\\users\\zainab\\anaconda3\\lib\\site-packages (from deepface) (0.5.0)\n",
      "Requirement already satisfied: opencv-python>=4.5.5.64 in c:\\users\\zainab\\anaconda3\\lib\\site-packages (from deepface) (4.11.0.86)\n",
      "Requirement already satisfied: keras>=2.2.0 in c:\\users\\zainab\\anaconda3\\lib\\site-packages (from deepface) (2.12.0)\n",
      "Requirement already satisfied: mtcnn>=0.1.0 in c:\\users\\zainab\\anaconda3\\lib\\site-packages (from deepface) (0.1.1)\n",
      "Requirement already satisfied: Flask>=1.1.2 in c:\\users\\zainab\\anaconda3\\lib\\site-packages (from deepface) (2.2.2)\n",
      "Requirement already satisfied: Pillow>=5.2.0 in c:\\users\\zainab\\anaconda3\\lib\\site-packages (from deepface) (11.1.0)\n",
      "Requirement already satisfied: pandas>=0.23.4 in c:\\users\\zainab\\anaconda3\\lib\\site-packages (from deepface) (1.5.3)\n",
      "Requirement already satisfied: gdown>=3.10.1 in c:\\users\\zainab\\anaconda3\\lib\\site-packages (from deepface) (4.7.1)\n",
      "Requirement already satisfied: six in c:\\users\\zainab\\anaconda3\\lib\\site-packages (from fire>=0.4.0->deepface) (1.17.0)\n",
      "Requirement already satisfied: termcolor in c:\\users\\zainab\\anaconda3\\lib\\site-packages (from fire>=0.4.0->deepface) (2.3.0)\n",
      "Requirement already satisfied: click>=8.0 in c:\\users\\zainab\\anaconda3\\lib\\site-packages (from Flask>=1.1.2->deepface) (8.0.4)\n",
      "Requirement already satisfied: itsdangerous>=2.0 in c:\\users\\zainab\\anaconda3\\lib\\site-packages (from Flask>=1.1.2->deepface) (2.0.1)\n",
      "Requirement already satisfied: Jinja2>=3.0 in c:\\users\\zainab\\anaconda3\\lib\\site-packages (from Flask>=1.1.2->deepface) (3.1.2)\n",
      "Requirement already satisfied: Werkzeug>=2.2.2 in c:\\users\\zainab\\anaconda3\\lib\\site-packages (from Flask>=1.1.2->deepface) (2.2.2)\n",
      "Requirement already satisfied: requests[socks] in c:\\users\\zainab\\anaconda3\\lib\\site-packages (from gdown>=3.10.1->deepface) (2.32.3)\n",
      "Requirement already satisfied: beautifulsoup4 in c:\\users\\zainab\\anaconda3\\lib\\site-packages (from gdown>=3.10.1->deepface) (4.11.1)\n",
      "Requirement already satisfied: filelock in c:\\users\\zainab\\anaconda3\\lib\\site-packages (from gdown>=3.10.1->deepface) (3.9.0)\n",
      "Requirement already satisfied: setuptools>=3.0 in c:\\users\\zainab\\anaconda3\\lib\\site-packages (from gunicorn>=20.1.0->deepface) (78.1.0)\n",
      "Requirement already satisfied: python-dateutil>=2.8.1 in c:\\users\\zainab\\anaconda3\\lib\\site-packages (from pandas>=0.23.4->deepface) (2.8.2)\n",
      "Requirement already satisfied: pytz>=2020.1 in c:\\users\\zainab\\anaconda3\\lib\\site-packages (from pandas>=0.23.4->deepface) (2022.7)\n",
      "Requirement already satisfied: tensorflow-intel==2.12.0 in c:\\users\\zainab\\anaconda3\\lib\\site-packages (from tensorflow>=1.9.0->deepface) (2.12.0)\n",
      "Requirement already satisfied: h5py>=2.9.0 in c:\\users\\zainab\\anaconda3\\lib\\site-packages (from tensorflow-intel==2.12.0->tensorflow>=1.9.0->deepface) (3.7.0)\n",
      "Requirement already satisfied: astunparse>=1.6.0 in c:\\users\\zainab\\anaconda3\\lib\\site-packages (from tensorflow-intel==2.12.0->tensorflow>=1.9.0->deepface) (1.6.3)\n",
      "Requirement already satisfied: flatbuffers>=2.0 in c:\\users\\zainab\\anaconda3\\lib\\site-packages (from tensorflow-intel==2.12.0->tensorflow>=1.9.0->deepface) (25.2.10)\n",
      "Collecting numpy>=1.14.0\n",
      "  Using cached numpy-1.23.5-cp310-cp310-win_amd64.whl (14.6 MB)\n",
      "Requirement already satisfied: tensorflow-io-gcs-filesystem>=0.23.1 in c:\\users\\zainab\\anaconda3\\lib\\site-packages (from tensorflow-intel==2.12.0->tensorflow>=1.9.0->deepface) (0.31.0)\n",
      "Requirement already satisfied: absl-py>=1.0.0 in c:\\users\\zainab\\anaconda3\\lib\\site-packages (from tensorflow-intel==2.12.0->tensorflow>=1.9.0->deepface) (1.4.0)\n",
      "Requirement already satisfied: tensorboard<2.13,>=2.12 in c:\\users\\zainab\\anaconda3\\lib\\site-packages (from tensorflow-intel==2.12.0->tensorflow>=1.9.0->deepface) (2.12.3)\n",
      "Requirement already satisfied: gast<=0.4.0,>=0.2.1 in c:\\users\\zainab\\anaconda3\\lib\\site-packages (from tensorflow-intel==2.12.0->tensorflow>=1.9.0->deepface) (0.4.0)\n",
      "Requirement already satisfied: grpcio<2.0,>=1.24.3 in c:\\users\\zainab\\anaconda3\\lib\\site-packages (from tensorflow-intel==2.12.0->tensorflow>=1.9.0->deepface) (1.54.2)\n",
      "Requirement already satisfied: packaging in c:\\users\\zainab\\anaconda3\\lib\\site-packages (from tensorflow-intel==2.12.0->tensorflow>=1.9.0->deepface) (24.2)\n",
      "Requirement already satisfied: tensorflow-estimator<2.13,>=2.12.0 in c:\\users\\zainab\\anaconda3\\lib\\site-packages (from tensorflow-intel==2.12.0->tensorflow>=1.9.0->deepface) (2.12.0)\n",
      "Requirement already satisfied: typing-extensions>=3.6.6 in c:\\users\\zainab\\anaconda3\\lib\\site-packages (from tensorflow-intel==2.12.0->tensorflow>=1.9.0->deepface) (4.13.0)\n",
      "Requirement already satisfied: opt-einsum>=2.3.2 in c:\\users\\zainab\\anaconda3\\lib\\site-packages (from tensorflow-intel==2.12.0->tensorflow>=1.9.0->deepface) (3.3.0)\n",
      "Requirement already satisfied: google-pasta>=0.1.1 in c:\\users\\zainab\\anaconda3\\lib\\site-packages (from tensorflow-intel==2.12.0->tensorflow>=1.9.0->deepface) (0.2.0)\n",
      "Requirement already satisfied: libclang>=13.0.0 in c:\\users\\zainab\\anaconda3\\lib\\site-packages (from tensorflow-intel==2.12.0->tensorflow>=1.9.0->deepface) (16.0.0)\n",
      "Requirement already satisfied: jax>=0.3.15 in c:\\users\\zainab\\anaconda3\\lib\\site-packages (from tensorflow-intel==2.12.0->tensorflow>=1.9.0->deepface) (0.4.12)\n",
      "Requirement already satisfied: protobuf!=4.21.0,!=4.21.1,!=4.21.2,!=4.21.3,!=4.21.4,!=4.21.5,<5.0.0dev,>=3.20.3 in c:\\users\\zainab\\anaconda3\\lib\\site-packages (from tensorflow-intel==2.12.0->tensorflow>=1.9.0->deepface) (4.23.3)\n",
      "Requirement already satisfied: wrapt<1.15,>=1.11.0 in c:\\users\\zainab\\anaconda3\\lib\\site-packages (from tensorflow-intel==2.12.0->tensorflow>=1.9.0->deepface) (1.14.1)\n",
      "Requirement already satisfied: colorama in c:\\users\\zainab\\anaconda3\\lib\\site-packages (from tqdm>=4.30.0->deepface) (0.4.6)\n",
      "Requirement already satisfied: MarkupSafe>=2.0 in c:\\users\\zainab\\anaconda3\\lib\\site-packages (from Jinja2>=3.0->Flask>=1.1.2->deepface) (2.1.1)\n",
      "Requirement already satisfied: soupsieve>1.2 in c:\\users\\zainab\\anaconda3\\lib\\site-packages (from beautifulsoup4->gdown>=3.10.1->deepface) (2.3.2.post1)\n",
      "Requirement already satisfied: idna<4,>=2.5 in c:\\users\\zainab\\anaconda3\\lib\\site-packages (from requests[socks]->gdown>=3.10.1->deepface) (3.4)\n",
      "Requirement already satisfied: certifi>=2017.4.17 in c:\\users\\zainab\\anaconda3\\lib\\site-packages (from requests[socks]->gdown>=3.10.1->deepface) (2022.12.7)\n",
      "Requirement already satisfied: charset-normalizer<4,>=2 in c:\\users\\zainab\\anaconda3\\lib\\site-packages (from requests[socks]->gdown>=3.10.1->deepface) (2.0.4)\n",
      "Requirement already satisfied: urllib3<3,>=1.21.1 in c:\\users\\zainab\\anaconda3\\lib\\site-packages (from requests[socks]->gdown>=3.10.1->deepface) (1.26.14)\n",
      "Requirement already satisfied: PySocks!=1.5.7,>=1.5.6 in c:\\users\\zainab\\anaconda3\\lib\\site-packages (from requests[socks]->gdown>=3.10.1->deepface) (1.7.1)\n",
      "Requirement already satisfied: wheel<1.0,>=0.23.0 in c:\\users\\zainab\\anaconda3\\lib\\site-packages (from astunparse>=1.6.0->tensorflow-intel==2.12.0->tensorflow>=1.9.0->deepface) (0.45.1)\n",
      "Requirement already satisfied: ml-dtypes>=0.1.0 in c:\\users\\zainab\\anaconda3\\lib\\site-packages (from jax>=0.3.15->tensorflow-intel==2.12.0->tensorflow>=1.9.0->deepface) (0.2.0)\n",
      "Requirement already satisfied: scipy>=1.7 in c:\\users\\zainab\\anaconda3\\lib\\site-packages (from jax>=0.3.15->tensorflow-intel==2.12.0->tensorflow>=1.9.0->deepface) (1.10.0)\n",
      "Requirement already satisfied: markdown>=2.6.8 in c:\\users\\zainab\\anaconda3\\lib\\site-packages (from tensorboard<2.13,>=2.12->tensorflow-intel==2.12.0->tensorflow>=1.9.0->deepface) (3.4.1)\n",
      "Requirement already satisfied: google-auth<3,>=1.6.3 in c:\\users\\zainab\\anaconda3\\lib\\site-packages (from tensorboard<2.13,>=2.12->tensorflow-intel==2.12.0->tensorflow>=1.9.0->deepface) (2.20.0)\n",
      "Requirement already satisfied: google-auth-oauthlib<1.1,>=0.5 in c:\\users\\zainab\\anaconda3\\lib\\site-packages (from tensorboard<2.13,>=2.12->tensorflow-intel==2.12.0->tensorflow>=1.9.0->deepface) (1.0.0)\n",
      "Requirement already satisfied: tensorboard-data-server<0.8.0,>=0.7.0 in c:\\users\\zainab\\anaconda3\\lib\\site-packages (from tensorboard<2.13,>=2.12->tensorflow-intel==2.12.0->tensorflow>=1.9.0->deepface) (0.7.1)\n",
      "Requirement already satisfied: cachetools<6.0,>=2.0.0 in c:\\users\\zainab\\anaconda3\\lib\\site-packages (from google-auth<3,>=1.6.3->tensorboard<2.13,>=2.12->tensorflow-intel==2.12.0->tensorflow>=1.9.0->deepface) (5.3.1)\n",
      "Requirement already satisfied: pyasn1-modules>=0.2.1 in c:\\users\\zainab\\anaconda3\\lib\\site-packages (from google-auth<3,>=1.6.3->tensorboard<2.13,>=2.12->tensorflow-intel==2.12.0->tensorflow>=1.9.0->deepface) (0.2.8)\n",
      "Requirement already satisfied: rsa<5,>=3.1.4 in c:\\users\\zainab\\anaconda3\\lib\\site-packages (from google-auth<3,>=1.6.3->tensorboard<2.13,>=2.12->tensorflow-intel==2.12.0->tensorflow>=1.9.0->deepface) (4.9)\n",
      "Requirement already satisfied: requests-oauthlib>=0.7.0 in c:\\users\\zainab\\anaconda3\\lib\\site-packages (from google-auth-oauthlib<1.1,>=0.5->tensorboard<2.13,>=2.12->tensorflow-intel==2.12.0->tensorflow>=1.9.0->deepface) (1.3.1)\n",
      "Requirement already satisfied: pyasn1<0.5.0,>=0.4.6 in c:\\users\\zainab\\anaconda3\\lib\\site-packages (from pyasn1-modules>=0.2.1->google-auth<3,>=1.6.3->tensorboard<2.13,>=2.12->tensorflow-intel==2.12.0->tensorflow>=1.9.0->deepface) (0.4.8)\n",
      "Requirement already satisfied: oauthlib>=3.0.0 in c:\\users\\zainab\\anaconda3\\lib\\site-packages (from requests-oauthlib>=0.7.0->google-auth-oauthlib<1.1,>=0.5->tensorboard<2.13,>=2.12->tensorflow-intel==2.12.0->tensorflow>=1.9.0->deepface) (3.2.2)\n",
      "Installing collected packages: numpy\n",
      "  Attempting uninstall: numpy\n",
      "    Found existing installation: numpy 1.26.4\n",
      "    Uninstalling numpy-1.26.4:\n",
      "      Successfully uninstalled numpy-1.26.4\n",
      "Successfully installed numpy-1.23.5\n"
     ]
    },
    {
     "name": "stderr",
     "output_type": "stream",
     "text": [
      "WARNING: Ignoring invalid distribution -pencv-python (c:\\users\\zainab\\anaconda3\\lib\\site-packages)\n",
      "WARNING: Ignoring invalid distribution -pencv-python (c:\\users\\zainab\\anaconda3\\lib\\site-packages)\n",
      "WARNING: Ignoring invalid distribution -pencv-python (c:\\users\\zainab\\anaconda3\\lib\\site-packages)\n",
      "    WARNING: Ignoring invalid distribution -pencv-python (c:\\users\\zainab\\anaconda3\\lib\\site-packages)\n",
      "WARNING: Ignoring invalid distribution -pencv-python (c:\\users\\zainab\\anaconda3\\lib\\site-packages)\n",
      "ERROR: pip's dependency resolver does not currently take into account all the packages that are installed. This behaviour is the source of the following dependency conflicts.\n",
      "gensim 4.3.0 requires FuzzyTM>=0.4.0, which is not installed.\n",
      "WARNING: Ignoring invalid distribution -pencv-python (c:\\users\\zainab\\anaconda3\\lib\\site-packages)\n",
      "WARNING: Ignoring invalid distribution -pencv-python (c:\\users\\zainab\\anaconda3\\lib\\site-packages)\n",
      "WARNING: Ignoring invalid distribution -pencv-python (c:\\users\\zainab\\anaconda3\\lib\\site-packages)\n"
     ]
    }
   ],
   "source": [
    "!pip install deepface"
   ]
  },
  {
   "cell_type": "code",
   "execution_count": 59,
   "id": "e78c9e74",
   "metadata": {},
   "outputs": [
    {
     "name": "stdout",
     "output_type": "stream",
     "text": [
      "^C\n",
      "Requirement already satisfied: opencv-python in c:\\users\\zainab\\anaconda3\\lib\\site-packages (4.11.0.86)\n",
      "Requirement already satisfied: numpy>=1.21.2 in c:\\users\\zainab\\anaconda3\\lib\\site-packages (from opencv-python) (2.1.3)\n"
     ]
    },
    {
     "name": "stderr",
     "output_type": "stream",
     "text": [
      "WARNING: Ignoring invalid distribution -pencv-python (c:\\users\\zainab\\anaconda3\\lib\\site-packages)\n",
      "WARNING: Ignoring invalid distribution -pencv-python (c:\\users\\zainab\\anaconda3\\lib\\site-packages)\n",
      "WARNING: Ignoring invalid distribution -pencv-python (c:\\users\\zainab\\anaconda3\\lib\\site-packages)\n",
      "WARNING: Ignoring invalid distribution -pencv-python (c:\\users\\zainab\\anaconda3\\lib\\site-packages)\n",
      "WARNING: Ignoring invalid distribution -pencv-python (c:\\users\\zainab\\anaconda3\\lib\\site-packages)\n",
      "WARNING: Ignoring invalid distribution -pencv-python (c:\\users\\zainab\\anaconda3\\lib\\site-packages)\n"
     ]
    }
   ],
   "source": [
    "!pip uninstall opencv-python opencv-contrib-python\n",
    "!pip install opencv-python"
   ]
  },
  {
   "cell_type": "code",
   "execution_count": 57,
   "id": "87e13a1a",
   "metadata": {},
   "outputs": [
    {
     "name": "stdout",
     "output_type": "stream",
     "text": [
      "Requirement already satisfied: pydot in c:\\users\\zainab\\anaconda3\\lib\\site-packages (3.0.4)"
     ]
    },
    {
     "name": "stderr",
     "output_type": "stream",
     "text": [
      "WARNING: Ignoring invalid distribution -pencv-python (c:\\users\\zainab\\anaconda3\\lib\\site-packages)\n",
      "WARNING: Ignoring invalid distribution -pencv-python (c:\\users\\zainab\\anaconda3\\lib\\site-packages)\n",
      "WARNING: Ignoring invalid distribution -pencv-python (c:\\users\\zainab\\anaconda3\\lib\\site-packages)\n",
      "WARNING: Ignoring invalid distribution -pencv-python (c:\\users\\zainab\\anaconda3\\lib\\site-packages)\n",
      "WARNING: Ignoring invalid distribution -pencv-python (c:\\users\\zainab\\anaconda3\\lib\\site-packages)\n",
      "WARNING: Ignoring invalid distribution -pencv-python (c:\\users\\zainab\\anaconda3\\lib\\site-packages)\n"
     ]
    },
    {
     "name": "stdout",
     "output_type": "stream",
     "text": [
      "\n",
      "Requirement already satisfied: graphviz in c:\\users\\zainab\\anaconda3\\lib\\site-packages (0.20.3)\n",
      "Requirement already satisfied: pyparsing>=3.0.9 in c:\\users\\zainab\\anaconda3\\lib\\site-packages (from pydot) (3.0.9)\n"
     ]
    }
   ],
   "source": [
    "!pip install graphviz"
   ]
  },
  {
   "cell_type": "code",
   "execution_count": 58,
   "id": "26e6d775",
   "metadata": {},
   "outputs": [
    {
     "name": "stdout",
     "output_type": "stream",
     "text": [
      "Requirement already satisfied: numpy in c:\\users\\zainab\\anaconda3\\lib\\site-packages (1.23.5)\n",
      "Collecting numpy\n",
      "  Using cached numpy-2.2.4-cp310-cp310-win_amd64.whl (12.9 MB)\n",
      "Requirement already satisfied: h5py in c:\\users\\zainab\\anaconda3\\lib\\site-packages (3.7.0)\n",
      "Collecting h5py\n",
      "  Using cached h5py-3.13.0-cp310-cp310-win_amd64.whl (3.0 MB)\n",
      "Requirement already satisfied: tensorflow in c:\\users\\zainab\\anaconda3\\lib\\site-packages (2.12.0)\n",
      "Collecting tensorflow\n",
      "  Using cached tensorflow-2.19.0-cp310-cp310-win_amd64.whl (375.7 MB)\n",
      "Requirement already satisfied: tensorflow-io-gcs-filesystem>=0.23.1 in c:\\users\\zainab\\anaconda3\\lib\\site-packages (from tensorflow) (0.31.0)\n",
      "Requirement already satisfied: google-pasta>=0.1.1 in c:\\users\\zainab\\anaconda3\\lib\\site-packages (from tensorflow) (0.2.0)\n",
      "Collecting keras>=3.5.0\n",
      "  Using cached keras-3.9.2-py3-none-any.whl (1.3 MB)\n",
      "Requirement already satisfied: gast!=0.5.0,!=0.5.1,!=0.5.2,>=0.2.1 in c:\\users\\zainab\\anaconda3\\lib\\site-packages (from tensorflow) (0.4.0)\n",
      "Collecting numpy\n",
      "  Using cached numpy-2.1.3-cp310-cp310-win_amd64.whl (12.9 MB)\n",
      "Requirement already satisfied: packaging in c:\\users\\zainab\\anaconda3\\lib\\site-packages (from tensorflow) (24.2)\n",
      "Collecting tensorboard~=2.19.0\n",
      "  Using cached tensorboard-2.19.0-py3-none-any.whl (5.5 MB)\n",
      "Requirement already satisfied: absl-py>=1.0.0 in c:\\users\\zainab\\anaconda3\\lib\\site-packages (from tensorflow) (1.4.0)\n",
      "Requirement already satisfied: requests<3,>=2.21.0 in c:\\users\\zainab\\anaconda3\\lib\\site-packages (from tensorflow) (2.32.3)\n",
      "Requirement already satisfied: protobuf!=4.21.0,!=4.21.1,!=4.21.2,!=4.21.3,!=4.21.4,!=4.21.5,<6.0.0dev,>=3.20.3 in c:\\users\\zainab\\anaconda3\\lib\\site-packages (from tensorflow) (4.23.3)\n",
      "Requirement already satisfied: termcolor>=1.1.0 in c:\\users\\zainab\\anaconda3\\lib\\site-packages (from tensorflow) (2.3.0)\n",
      "Requirement already satisfied: libclang>=13.0.0 in c:\\users\\zainab\\anaconda3\\lib\\site-packages (from tensorflow) (16.0.0)\n",
      "Requirement already satisfied: flatbuffers>=24.3.25 in c:\\users\\zainab\\anaconda3\\lib\\site-packages (from tensorflow) (25.2.10)\n",
      "Collecting ml-dtypes<1.0.0,>=0.5.1\n",
      "  Using cached ml_dtypes-0.5.1-cp310-cp310-win_amd64.whl (209 kB)\n",
      "Requirement already satisfied: astunparse>=1.6.0 in c:\\users\\zainab\\anaconda3\\lib\\site-packages (from tensorflow) (1.6.3)\n",
      "Requirement already satisfied: wrapt>=1.11.0 in c:\\users\\zainab\\anaconda3\\lib\\site-packages (from tensorflow) (1.14.1)\n",
      "Requirement already satisfied: typing-extensions>=3.6.6 in c:\\users\\zainab\\anaconda3\\lib\\site-packages (from tensorflow) (4.13.0)\n",
      "Requirement already satisfied: grpcio<2.0,>=1.24.3 in c:\\users\\zainab\\anaconda3\\lib\\site-packages (from tensorflow) (1.54.2)\n",
      "Requirement already satisfied: setuptools in c:\\users\\zainab\\anaconda3\\lib\\site-packages (from tensorflow) (78.1.0)\n",
      "Requirement already satisfied: opt-einsum>=2.3.2 in c:\\users\\zainab\\anaconda3\\lib\\site-packages (from tensorflow) (3.3.0)\n",
      "Requirement already satisfied: six>=1.12.0 in c:\\users\\zainab\\anaconda3\\lib\\site-packages (from tensorflow) (1.17.0)\n",
      "Requirement already satisfied: wheel<1.0,>=0.23.0 in c:\\users\\zainab\\anaconda3\\lib\\site-packages (from astunparse>=1.6.0->tensorflow) (0.45.1)\n",
      "Requirement already satisfied: namex in c:\\users\\zainab\\anaconda3\\lib\\site-packages (from keras>=3.5.0->tensorflow) (0.0.8)\n",
      "Collecting rich\n",
      "  Using cached rich-14.0.0-py3-none-any.whl (243 kB)\n",
      "Requirement already satisfied: optree in c:\\users\\zainab\\anaconda3\\lib\\site-packages (from keras>=3.5.0->tensorflow) (0.14.1)\n",
      "Requirement already satisfied: certifi>=2017.4.17 in c:\\users\\zainab\\anaconda3\\lib\\site-packages (from requests<3,>=2.21.0->tensorflow) (2022.12.7)\n",
      "Requirement already satisfied: idna<4,>=2.5 in c:\\users\\zainab\\anaconda3\\lib\\site-packages (from requests<3,>=2.21.0->tensorflow) (3.4)\n",
      "Requirement already satisfied: urllib3<3,>=1.21.1 in c:\\users\\zainab\\anaconda3\\lib\\site-packages (from requests<3,>=2.21.0->tensorflow) (1.26.14)\n",
      "Requirement already satisfied: charset-normalizer<4,>=2 in c:\\users\\zainab\\anaconda3\\lib\\site-packages (from requests<3,>=2.21.0->tensorflow) (2.0.4)\n",
      "Requirement already satisfied: werkzeug>=1.0.1 in c:\\users\\zainab\\anaconda3\\lib\\site-packages (from tensorboard~=2.19.0->tensorflow) (2.2.2)\n",
      "Requirement already satisfied: markdown>=2.6.8 in c:\\users\\zainab\\anaconda3\\lib\\site-packages (from tensorboard~=2.19.0->tensorflow) (3.4.1)\n",
      "Requirement already satisfied: tensorboard-data-server<0.8.0,>=0.7.0 in c:\\users\\zainab\\anaconda3\\lib\\site-packages (from tensorboard~=2.19.0->tensorflow) (0.7.1)\n",
      "Requirement already satisfied: MarkupSafe>=2.1.1 in c:\\users\\zainab\\anaconda3\\lib\\site-packages (from werkzeug>=1.0.1->tensorboard~=2.19.0->tensorflow) (2.1.1)\n",
      "Requirement already satisfied: pygments<3.0.0,>=2.13.0 in c:\\users\\zainab\\anaconda3\\lib\\site-packages (from rich->keras>=3.5.0->tensorflow) (2.19.1)\n",
      "Collecting markdown-it-py>=2.2.0\n",
      "  Using cached markdown_it_py-3.0.0-py3-none-any.whl (87 kB)\n",
      "Collecting mdurl~=0.1\n",
      "  Using cached mdurl-0.1.2-py3-none-any.whl (10.0 kB)\n",
      "Installing collected packages: numpy, mdurl, tensorboard, ml-dtypes, markdown-it-py, h5py, rich, keras, tensorflow\n",
      "  Attempting uninstall: numpy\n",
      "    Found existing installation: numpy 1.23.5\n",
      "    Uninstalling numpy-1.23.5:\n",
      "      Successfully uninstalled numpy-1.23.5\n",
      "  Attempting uninstall: tensorboard\n",
      "    Found existing installation: tensorboard 2.12.3\n",
      "    Uninstalling tensorboard-2.12.3:\n",
      "      Successfully uninstalled tensorboard-2.12.3\n",
      "  Attempting uninstall: ml-dtypes\n",
      "    Found existing installation: ml-dtypes 0.2.0\n",
      "    Uninstalling ml-dtypes-0.2.0:\n",
      "      Successfully uninstalled ml-dtypes-0.2.0\n",
      "  Attempting uninstall: h5py\n",
      "    Found existing installation: h5py 3.7.0\n",
      "    Uninstalling h5py-3.7.0:\n",
      "      Successfully uninstalled h5py-3.7.0\n",
      "  Attempting uninstall: keras\n",
      "    Found existing installation: keras 2.12.0\n",
      "    Uninstalling keras-2.12.0:\n",
      "      Successfully uninstalled keras-2.12.0\n",
      "  Attempting uninstall: tensorflow\n",
      "    Found existing installation: tensorflow 2.12.0\n",
      "    Uninstalling tensorflow-2.12.0:\n",
      "      Successfully uninstalled tensorflow-2.12.0\n",
      "  Rolling back uninstall of tensorflow\n",
      "  Moving to c:\\users\\zainab\\anaconda3\\lib\\site-packages\\tensorflow-2.12.0.dist-info\\\n",
      "   from C:\\Users\\Zainab\\anaconda3\\Lib\\site-packages\\~ensorflow-2.12.0.dist-info\n"
     ]
    },
    {
     "name": "stderr",
     "output_type": "stream",
     "text": [
      "WARNING: Ignoring invalid distribution -pencv-python (c:\\users\\zainab\\anaconda3\\lib\\site-packages)\n",
      "WARNING: Ignoring invalid distribution -pencv-python (c:\\users\\zainab\\anaconda3\\lib\\site-packages)\n",
      "WARNING: Ignoring invalid distribution -pencv-python (c:\\users\\zainab\\anaconda3\\lib\\site-packages)\n",
      "    WARNING: Ignoring invalid distribution -pencv-python (c:\\users\\zainab\\anaconda3\\lib\\site-packages)\n",
      "    WARNING: Ignoring invalid distribution -pencv-python (c:\\users\\zainab\\anaconda3\\lib\\site-packages)\n",
      "    WARNING: Ignoring invalid distribution -pencv-python (c:\\users\\zainab\\anaconda3\\lib\\site-packages)\n",
      "    WARNING: Ignoring invalid distribution -pencv-python (c:\\users\\zainab\\anaconda3\\lib\\site-packages)\n",
      "    WARNING: Ignoring invalid distribution -pencv-python (c:\\users\\zainab\\anaconda3\\lib\\site-packages)\n",
      "    WARNING: Ignoring invalid distribution -pencv-python (c:\\users\\zainab\\anaconda3\\lib\\site-packages)\n",
      "ERROR: Could not install packages due to an OSError: [WinError 5] Access is denied: 'C:\\\\Users\\\\Zainab\\\\anaconda3\\\\Lib\\\\site-packages\\\\tensorflow\\\\compiler\\\\tf2tensorrt\\\\_pywrap_py_utils.pyd'\n",
      "Consider using the `--user` option or check the permissions.\n",
      "\n",
      "WARNING: Ignoring invalid distribution -pencv-python (c:\\users\\zainab\\anaconda3\\lib\\site-packages)\n",
      "WARNING: Ignoring invalid distribution -pencv-python (c:\\users\\zainab\\anaconda3\\lib\\site-packages)\n",
      "WARNING: Ignoring invalid distribution -pencv-python (c:\\users\\zainab\\anaconda3\\lib\\site-packages)\n"
     ]
    }
   ],
   "source": [
    "!pip install --upgrade numpy h5py tensorflow"
   ]
  },
  {
   "cell_type": "code",
   "execution_count": 48,
   "id": "f50ed322",
   "metadata": {},
   "outputs": [],
   "source": [
    "## RUN BELOW CODES FOR RECEIVING THE OUTPUT"
   ]
  },
  {
   "cell_type": "code",
   "execution_count": 62,
   "id": "4d066d35",
   "metadata": {},
   "outputs": [
    {
     "name": "stdout",
     "output_type": "stream",
     "text": [
      "Camera opened successfully.\n",
      "Press 'q' to exit.\n",
      "Exit key pressed.\n",
      "Releasing camera and destroying windows...\n",
      "Application finished.\n"
     ]
    }
   ],
   "source": [
    "#### WORKING CODE FOR EMOTION DETECTION\n",
    "\n",
    "import cv2\n",
    "from deepface import DeepFace\n",
    "import time # Optional: To slightly slow down if DeepFace errors due to speed\n",
    "\n",
    "# Load OpenCV's pre-trained face detection model\n",
    "# Ensure the path is correct or downloaded if needed\n",
    "haar_path = cv2.data.haarcascades + \"haarcascade_frontalface_default.xml\"\n",
    "try:\n",
    "    face_cascade = cv2.CascadeClassifier(haar_path)\n",
    "    if face_cascade.empty():\n",
    "        raise IOError(f\"Cannot load HAAR cascade from {haar_path}\")\n",
    "except Exception as e:\n",
    "    print(f\"Error loading cascade classifier: {e}\")\n",
    "    exit()\n",
    "\n",
    "# --- IMPORTANT: Select the correct camera index ---\n",
    "# 0 is usually the built-in webcam, 1 might be an external one.\n",
    "# Try changing this if you don't see the expected camera feed.\n",
    "CAMERA_INDEX = 1\n",
    "cap = cv2.VideoCapture(CAMERA_INDEX)\n",
    "\n",
    "if not cap.isOpened():\n",
    "    print(f\"Error: Could not open video capture device with index {CAMERA_INDEX}\")\n",
    "    exit()\n",
    "\n",
    "print(\"Camera opened successfully.\")\n",
    "print(\"Press 'q' to exit.\")\n",
    "\n",
    "while True:\n",
    "    ret, frame = cap.read()\n",
    "    if not ret:\n",
    "        print(\"Error: Failed to capture frame.\")\n",
    "        time.sleep(0.5) # Pause briefly before trying again or breaking\n",
    "        # break # Uncomment this if you want to exit on first failure\n",
    "        continue # Try to capture next frame\n",
    "\n",
    "    # --- Process the ORIGINAL frame ---\n",
    "    # Convert frame to grayscale for better face detection\n",
    "    gray = cv2.cvtColor(frame, cv2.COLOR_BGR2GRAY)\n",
    "\n",
    "    # Detect faces using the original frame's orientation\n",
    "    # (You might need to tune scaleFactor and minNeighbors for your lighting/camera)\n",
    "    faces = face_cascade.detectMultiScale(gray, scaleFactor=1.1, minNeighbors=5, minSize=(50, 50))\n",
    "\n",
    "    # Store the detected emotions and their positions\n",
    "    detected_emotions = []\n",
    "\n",
    "    # --- Perform analysis and draw on the ORIGINAL frame ---\n",
    "    for (x, y, w, h) in faces:\n",
    "        # Draw bounding box around the face (on the original orientation frame)\n",
    "        cv2.rectangle(frame, (x, y), (x + w, y + h), (0, 255, 0), 2)\n",
    "\n",
    "        # Extract face region for emotion analysis (from the original orientation frame)\n",
    "        # Add a small buffer if needed, but be careful not to go out of bounds\n",
    "        face_roi = frame[y:y + h, x:x + w]\n",
    "\n",
    "        # Ensure ROI is not empty before analyzing\n",
    "        if face_roi.size == 0:\n",
    "            print(\"Warning: Detected face ROI is empty.\")\n",
    "            continue\n",
    "\n",
    "        try:\n",
    "            # Analyze emotion using DeepFace on the original ROI\n",
    "            # enforce_detection=False is important here as we already detected the face\n",
    "            result = DeepFace.analyze(face_roi, actions=['emotion'], enforce_detection=False, silent=True) # silent=True reduces console spam\n",
    "\n",
    "            if result and isinstance(result, list): # Check if result is valid\n",
    "                emotion = result[0]['dominant_emotion']\n",
    "                # Store the emotion and its position\n",
    "                detected_emotions.append((emotion, x, y))\n",
    "            else:\n",
    "                print(\"Warning: DeepFace did not return expected result format.\")\n",
    "\n",
    "        except ValueError as ve:\n",
    "             # This often happens if the detected face is too small or unclear for DeepFace\n",
    "             print(f\"DeepFace ValueError (likely face unsuitable): {ve}\")\n",
    "             # Optionally draw a '?' or nothing\n",
    "             detected_emotions.append((\"?\", x, y))\n",
    "        except Exception as e:\n",
    "            print(f\"Error during DeepFace analysis: {e}\")\n",
    "            # Optionally draw an error indicator\n",
    "            detected_emotions.append((\"Error\", x, y))\n",
    "\n",
    "    # --- Flip the frame HORIZONTALLY for display AFTER processing ---\n",
    "    # flipCode = 1 means horizontal flip (mirror image)\n",
    "    display_frame = cv2.flip(frame, 1)\n",
    "\n",
    "    # Display the flipped emotion labels\n",
    "    for emotion, x, y in detected_emotions:\n",
    "        flipped_x = display_frame.shape[1] - x - w\n",
    "        cv2.putText(display_frame, emotion, (flipped_x, y - 10), cv2.FONT_HERSHEY_SIMPLEX, 0.8, (0, 255, 0), 2)\n",
    "\n",
    "    # --- Show the FLIPPED video feed ---\n",
    "    cv2.imshow(\"Real-Time Emotion Detection (Mirrored)\", display_frame)\n",
    "\n",
    "    # Press 'q' to exit\n",
    "    if cv2.waitKey(1) & 0xFF == ord('q'):\n",
    "        print(\"Exit key pressed.\")\n",
    "        break\n",
    "\n",
    "# Release resources\n",
    "print(\"Releasing camera and destroying windows...\")\n",
    "cap.release()\n",
    "cv2.destroyAllWindows()\n",
    "print(\"Application finished.\")"
   ]
  },
  {
   "cell_type": "code",
   "execution_count": 31,
   "id": "c29cfbf6",
   "metadata": {},
   "outputs": [
    {
     "name": "stdout",
     "output_type": "stream",
     "text": [
      "Model: \"sequential_3\"\n",
      "_________________________________________________________________\n",
      " Layer (type)                Output Shape              Param #   \n",
      "=================================================================\n",
      " conv2d_9 (Conv2D)           (None, 62, 62, 32)        896       \n",
      "                                                                 \n",
      " max_pooling2d_5 (MaxPooling  (None, 31, 31, 32)       0         \n",
      " 2D)                                                             \n",
      "                                                                 \n",
      " conv2d_10 (Conv2D)          (None, 29, 29, 32)        9248      \n",
      "                                                                 \n",
      " max_pooling2d_6 (MaxPooling  (None, 14, 14, 32)       0         \n",
      " 2D)                                                             \n",
      "                                                                 \n",
      " flatten_3 (Flatten)         (None, 6272)              0         \n",
      "                                                                 \n",
      " dense_7 (Dense)             (None, 128)               802944    \n",
      "                                                                 \n",
      " dense_8 (Dense)             (None, 1)                 129       \n",
      "                                                                 \n",
      "=================================================================\n",
      "Total params: 813,217\n",
      "Trainable params: 813,217\n",
      "Non-trainable params: 0\n",
      "_________________________________________________________________\n"
     ]
    }
   ],
   "source": [
    "# Code for CNN Model and model summary\n",
    "import tensorflow as tf\n",
    "from tensorflow.keras.models import Sequential\n",
    "from tensorflow.keras.layers import Conv2D, MaxPooling2D, Flatten, Dense\n",
    "\n",
    "# Define the CNN Model\n",
    "model = Sequential([\n",
    "    Conv2D(32, (3, 3), activation='relu', input_shape=(64, 64, 3)),\n",
    "    MaxPooling2D(pool_size=(2, 2)),\n",
    "    Conv2D(32, (3, 3), activation='relu'),\n",
    "    MaxPooling2D(pool_size=(2, 2)),\n",
    "    Flatten(),\n",
    "    Dense(128, activation='relu'),\n",
    "    Dense(1, activation='sigmoid')\n",
    "])\n",
    "\n",
    "# Compile the model\n",
    "model.compile(optimizer='adam', loss='binary_crossentropy', metrics=['accuracy'])\n",
    "\n",
    "# Summary of the model\n",
    "model.summary()"
   ]
  },
  {
   "cell_type": "code",
   "execution_count": 32,
   "id": "fff90c1e",
   "metadata": {},
   "outputs": [
    {
     "name": "stdout",
     "output_type": "stream",
     "text": [
      "Found 1593 images belonging to 2 classes.\n"
     ]
    }
   ],
   "source": [
    "from tensorflow.keras.preprocessing.image import ImageDataGenerator\n",
    "\n",
    "# Data preparation\n",
    "train_datagen = ImageDataGenerator(rescale=1./255)\n",
    "training_set = train_datagen.flow_from_directory('C://Users//Zainab//emotion_detection//dataset//training_set//train',\n",
    "                                                 target_size=(64, 64),\n",
    "                                                 batch_size=32,\n",
    "                                                 class_mode='binary')"
   ]
  },
  {
   "cell_type": "code",
   "execution_count": 33,
   "id": "3412f544",
   "metadata": {},
   "outputs": [
    {
     "name": "stdout",
     "output_type": "stream",
     "text": [
      "Epoch 1/25\n",
      "50/50 [==============================] - 18s 332ms/step - loss: 0.0202 - accuracy: 0.9799 - val_loss: 2.1886e-11 - val_accuracy: 1.0000\n",
      "Epoch 2/25\n",
      "50/50 [==============================] - 15s 303ms/step - loss: 1.7312e-11 - accuracy: 1.0000 - val_loss: 1.5989e-11 - val_accuracy: 1.0000\n",
      "Epoch 3/25\n",
      "50/50 [==============================] - 23s 457ms/step - loss: 1.5956e-11 - accuracy: 1.0000 - val_loss: 1.5954e-11 - val_accuracy: 1.0000\n",
      "Epoch 4/25\n",
      "50/50 [==============================] - 17s 338ms/step - loss: 1.5953e-11 - accuracy: 1.0000 - val_loss: 1.5953e-11 - val_accuracy: 1.0000\n",
      "Epoch 5/25\n",
      "50/50 [==============================] - 15s 307ms/step - loss: 1.5953e-11 - accuracy: 1.0000 - val_loss: 1.5953e-11 - val_accuracy: 1.0000\n",
      "Epoch 6/25\n",
      "50/50 [==============================] - 14s 290ms/step - loss: 1.5953e-11 - accuracy: 1.0000 - val_loss: 1.5953e-11 - val_accuracy: 1.0000\n",
      "Epoch 7/25\n",
      "50/50 [==============================] - 15s 299ms/step - loss: 1.5953e-11 - accuracy: 1.0000 - val_loss: 1.5953e-11 - val_accuracy: 1.0000\n",
      "Epoch 8/25\n",
      "50/50 [==============================] - 15s 304ms/step - loss: 1.5953e-11 - accuracy: 1.0000 - val_loss: 1.5953e-11 - val_accuracy: 1.0000\n",
      "Epoch 9/25\n",
      "50/50 [==============================] - 15s 295ms/step - loss: 1.5952e-11 - accuracy: 1.0000 - val_loss: 1.5952e-11 - val_accuracy: 1.0000\n",
      "Epoch 10/25\n",
      "50/50 [==============================] - 15s 294ms/step - loss: 1.5952e-11 - accuracy: 1.0000 - val_loss: 1.5952e-11 - val_accuracy: 1.0000\n",
      "Epoch 11/25\n",
      "50/50 [==============================] - 15s 300ms/step - loss: 1.5952e-11 - accuracy: 1.0000 - val_loss: 1.5952e-11 - val_accuracy: 1.0000\n",
      "Epoch 12/25\n",
      "50/50 [==============================] - 15s 302ms/step - loss: 1.5951e-11 - accuracy: 1.0000 - val_loss: 1.5951e-11 - val_accuracy: 1.0000\n",
      "Epoch 13/25\n",
      "50/50 [==============================] - 16s 315ms/step - loss: 1.5951e-11 - accuracy: 1.0000 - val_loss: 1.5951e-11 - val_accuracy: 1.0000\n",
      "Epoch 14/25\n",
      "50/50 [==============================] - 15s 309ms/step - loss: 1.5951e-11 - accuracy: 1.0000 - val_loss: 1.5950e-11 - val_accuracy: 1.0000\n",
      "Epoch 15/25\n",
      "50/50 [==============================] - 19s 380ms/step - loss: 1.5950e-11 - accuracy: 1.0000 - val_loss: 1.5950e-11 - val_accuracy: 1.0000\n",
      "Epoch 16/25\n",
      "50/50 [==============================] - 23s 468ms/step - loss: 1.5950e-11 - accuracy: 1.0000 - val_loss: 1.5950e-11 - val_accuracy: 1.0000\n",
      "Epoch 17/25\n",
      "50/50 [==============================] - 15s 300ms/step - loss: 1.5950e-11 - accuracy: 1.0000 - val_loss: 1.5949e-11 - val_accuracy: 1.0000\n",
      "Epoch 18/25\n",
      "50/50 [==============================] - 15s 296ms/step - loss: 1.5949e-11 - accuracy: 1.0000 - val_loss: 1.5949e-11 - val_accuracy: 1.0000\n",
      "Epoch 19/25\n",
      "50/50 [==============================] - 14s 290ms/step - loss: 1.5949e-11 - accuracy: 1.0000 - val_loss: 1.5948e-11 - val_accuracy: 1.0000\n",
      "Epoch 20/25\n",
      "50/50 [==============================] - 15s 305ms/step - loss: 1.5948e-11 - accuracy: 1.0000 - val_loss: 1.5948e-11 - val_accuracy: 1.0000\n",
      "Epoch 21/25\n",
      "50/50 [==============================] - 18s 359ms/step - loss: 1.5948e-11 - accuracy: 1.0000 - val_loss: 1.5947e-11 - val_accuracy: 1.0000\n",
      "Epoch 22/25\n",
      "50/50 [==============================] - 19s 389ms/step - loss: 1.5947e-11 - accuracy: 1.0000 - val_loss: 1.5947e-11 - val_accuracy: 1.0000\n",
      "Epoch 23/25\n",
      "50/50 [==============================] - 22s 440ms/step - loss: 1.5947e-11 - accuracy: 1.0000 - val_loss: 1.5946e-11 - val_accuracy: 1.0000\n",
      "Epoch 24/25\n",
      "50/50 [==============================] - 16s 316ms/step - loss: 1.5946e-11 - accuracy: 1.0000 - val_loss: 1.5946e-11 - val_accuracy: 1.0000\n",
      "Epoch 25/25\n",
      "50/50 [==============================] - 15s 303ms/step - loss: 1.5945e-11 - accuracy: 1.0000 - val_loss: 1.5945e-11 - val_accuracy: 1.0000\n"
     ]
    },
    {
     "data": {
      "image/png": "[encoded data removed]",
      "text/plain": [
       "<Figure size 640x480 with 1 Axes>"
      ]
     },
     "metadata": {},
     "output_type": "display_data"
    }
   ],
   "source": [
    "import matplotlib.pyplot as plt\n",
    "\n",
    "# Calculate steps_per_epoch\n",
    "steps_per_epoch = len(training_set)\n",
    "\n",
    "# Training the model\n",
    "history = model.fit(training_set,\n",
    "                    steps_per_epoch=steps_per_epoch,\n",
    "                    epochs=25,\n",
    "                    validation_data=training_set,\n",
    "                    validation_steps=len(training_set))\n",
    "\n",
    "# Plotting accuracy\n",
    "plt.plot(history.history['accuracy'])\n",
    "plt.plot(history.history['val_accuracy'])\n",
    "plt.title('Model accuracy')\n",
    "plt.ylabel('Accuracy')\n",
    "plt.xlabel('Epoch')\n",
    "plt.legend(['Train', 'Validation'], loc='upper left')\n",
    "plt.show()"
   ]
  },
  {
   "cell_type": "code",
   "execution_count": 43,
   "id": "615bf0ac",
   "metadata": {},
   "outputs": [
    {
     "name": "stdout",
     "output_type": "stream",
     "text": [
      "Found 1826 images belonging to 3 classes.\n",
      "Found 0 images belonging to 0 classes.\n",
      "{'test': 0, 'train': 1, 'valid': 2}\n"
     ]
    }
   ],
   "source": [
    "import os\n",
    "from tensorflow.keras.preprocessing.image import ImageDataGenerator\n",
    "\n",
    "# Define paths\n",
    "train_data_dir = 'C://Users//Zainab//emotion_detection//dataset//training_set'\n",
    "validation_data_dir = 'C://Users//Zainab//emotion_detection//dataset//csv//valid'\n",
    "\n",
    "# ImageDataGenerator for data augmentation\n",
    "train_datagen = ImageDataGenerator(\n",
    "    rescale=1./255,\n",
    "    shear_range=0.2,\n",
    "    zoom_range=0.2,\n",
    "    horizontal_flip=True\n",
    ")\n",
    "\n",
    "validation_datagen = ImageDataGenerator(rescale=1./255)\n",
    "\n",
    "# Load training data\n",
    "training_set = train_datagen.flow_from_directory(\n",
    "    train_data_dir,\n",
    "    target_size=(64, 64),\n",
    "    batch_size=32,\n",
    "    class_mode='categorical'\n",
    ")\n",
    "\n",
    "# Load validation data\n",
    "validation_set = validation_datagen.flow_from_directory(\n",
    "    validation_data_dir,\n",
    "    target_size=(64, 64),\n",
    "    batch_size=32,\n",
    "    class_mode='categorical'\n",
    ")\n",
    "\n",
    "# Check the class indices\n",
    "print(training_set.class_indices)"
   ]
  },
  {
   "cell_type": "code",
   "execution_count": 61,
   "id": "4dd15a60",
   "metadata": {},
   "outputs": [
    {
     "name": "stdout",
     "output_type": "stream",
     "text": [
      "Training Accuracy: 100.00%\n",
      "Validation Accuracy: 100.00%\n"
     ]
    }
   ],
   "source": [
    "# Displaying training and validation accuracy\n",
    "train_acc = history.history['accuracy'][-1] * 100\n",
    "val_acc = history.history['val_accuracy'][-1] * 100\n",
    "\n",
    "print(f'Training Accuracy: {train_acc:.2f}%')\n",
    "print(f'Validation Accuracy: {val_acc:.2f}%')"
   ]
  },
  {
   "cell_type": "code",
   "execution_count": null,
   "id": "c7006e63",
   "metadata": {},
   "outputs": [],
   "source": []
  },
  {
   "cell_type": "code",
   "execution_count": null,
   "id": "cec51baf",
   "metadata": {},
   "outputs": [],
   "source": []
  },
  {
   "cell_type": "code",
   "execution_count": null,
   "id": "cb95022c",
   "metadata": {},
   "outputs": [],
   "source": []
  }
 ],
 "metadata": {
  "kernelspec": {
   "display_name": "Python 3 (ipykernel)",
   "language": "python",
   "name": "python3"
  },
  "language_info": {
   "codemirror_mode": {
    "name": "ipython",
    "version": 3
   },
   "file_extension": ".py",
   "mimetype": "text/x-python",
   "name": "python",
   "nbconvert_exporter": "python",
   "pygments_lexer": "ipython3",
   "version": "3.10.9"
  }
 },
 "nbformat": 4,
 "nbformat_minor": 5
}
